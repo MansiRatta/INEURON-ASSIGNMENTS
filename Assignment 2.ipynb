{
 "cells": [
  {
   "cell_type": "markdown",
   "id": "7e412dbf",
   "metadata": {},
   "source": [
    "1.What are the two values of the Boolean data type? How do you write them?\n",
    "<br>The two values of Boolean data type are True and False. \n",
    "<br>They are written as True and False"
   ]
  },
  {
   "cell_type": "markdown",
   "id": "63d115f1",
   "metadata": {},
   "source": [
    "2. What are the three different types of Boolean operators?\n",
    "Three types of Boolean operators are-\n",
    "<br> AND- It gives True only if both statements are True \n",
    "<br> OR- It gives True if any one statement is True\n",
    "<br> NOT- It negates the result by giving reverse answer (will give True if it is False) "
   ]
  },
  {
   "cell_type": "markdown",
   "id": "fe5a8c4f",
   "metadata": {},
   "source": [
    "3. Make a list of each Boolean operator&#39;s truth tables (i.e. every possible combination of Boolean\n",
    "values for the operator and what it evaluate ).\n",
    "<br> True and True is True\n",
    "<br> True and False is False\n",
    "<br> False and True is False\n",
    "<br> False and False is False\n",
    "<br> True or True is True\n",
    "<br> True or False is True\n",
    "<br> False or True is True\n",
    "<br> False or False is False\n",
    "<br> not True is False\n",
    "<br> not False is True"
   ]
  },
  {
   "cell_type": "markdown",
   "id": "57017559",
   "metadata": {},
   "source": [
    "4. What are the values of the following expressions?\n",
    "<br> (5 > 4) and (3 == 5) will give False\n",
    "<br> not (5 > 4) will give False\n",
    "<br> (5 > 4) or (3 == 5) will give True\n",
    "<br> not ((5 > 4) or (3 == 5)) will give False\n",
    "<br> (True and True) and (True == False) will give False\n",
    "<br> (not False) or (not True) will give True"
   ]
  },
  {
   "cell_type": "markdown",
   "id": "de60e86d",
   "metadata": {},
   "source": [
    "5. What are the six comparison operators?\n",
    "<br> == Equal\n",
    "<br> != Not equal\n",
    "<br> > Greater than\n",
    "<br> < Less than\n",
    "<br> >= Greater than or equal to\n",
    "<br> <= Less than or equal to\n"
   ]
  },
  {
   "cell_type": "markdown",
   "id": "b2d24515",
   "metadata": {},
   "source": [
    "6. How do you tell the difference between the equal to and assignment operators? Describe a\n",
    "condition and when you would use one.\n",
    "<br>'Equal to' operator is denoted by '==' whereas 'Assignment' operator is denoted by '=' \n",
    "<br>'==' would be used if we are stating a statement such as 1+2==3 which will return a boolean value. \n",
    "<br>'=' would be used if we want to assign a value to a variable such as x = 10. After running this, x will store the value 10."
   ]
  },
  {
   "cell_type": "markdown",
   "id": "b6cb2fe0",
   "metadata": {},
   "source": [
    "7. Identify the three blocks in this code:\n",
    "<br>spam = 0\n",
    "<br>if spam == 10:\n",
    "<br>print('eggs')\n",
    "<br>if spam > 5:\n",
    "<br>print('bacon')\n",
    "<br>else:\n",
    "<br>print('ham')\n",
    "<br>print('spam')\n",
    "<br>print('spam')\n",
    "\n",
    "<br>The three blocks in the code are in the 3rd,5th & 7th line of code. The error is because of absence of indentation. Without giving indentation before the 'print' command it'll keep on showing error. "
   ]
  },
  {
   "cell_type": "code",
   "execution_count": 11,
   "id": "fe43d296",
   "metadata": {},
   "outputs": [
    {
     "name": "stdout",
     "output_type": "stream",
     "text": [
      "Howdy\n"
     ]
    }
   ],
   "source": [
    "# 8. Write code that prints Hello if 1 is stored in spam, prints Howdy if 2 is stored in spam, and prints Greetings! if anything else is stored in spam.spam = 0\n",
    "\n",
    "spam=2\n",
    "if spam==1:\n",
    "    print('Hello')\n",
    "if spam==2:\n",
    "    print('Howdy')\n",
    "else:\n",
    "    print('Greetings!')"
   ]
  },
  {
   "cell_type": "markdown",
   "id": "41c3ce45",
   "metadata": {},
   "source": [
    "9.If your programme is stuck in an endless loop, what keys you’ll press?\n",
    "\n",
    "To break a loop in an endless loop we can press Ctrl+C keys."
   ]
  },
  {
   "cell_type": "markdown",
   "id": "f4cb4afe",
   "metadata": {},
   "source": [
    "10. How can you tell the difference between break and continue?\n",
    "\n",
    "A break statement in python will break the existing on going loop and terminate it if the specified condition has met.\n",
    "A continue statement will skip the current iteration specified in the condition and will move to the next iteration directly.\n",
    "\n",
    "Continue is used to skip a particular iteration in the loop while a break statement is used to skip all the iterations after the condition has met."
   ]
  },
  {
   "cell_type": "markdown",
   "id": "1bd8e0ed",
   "metadata": {},
   "source": [
    "11. In a for loop, what is the difference between range(10), range(0, 10), and range(0, 10, 1)?\n",
    "\n",
    "Even though all the ranges will give similar results in this case, their functioning inside works differently from each other because of different customization in code. \n",
    "\n",
    "range(10) - In this range, the loop will iterate over every element from 0 to 10, not including 10. Since we haven't mentioned the step in this range, it'll iterate over the range in steps of 1 by default.\n",
    "\n",
    "range(0,10) - In this range, the loop will iterate over every element from 0 to 10 (as specified in range), not including 10. Since we haven't mentioned the step in this range either, it'll iterate over the range in steps of 1 by default.\n",
    "\n",
    "range(0,10,1) - In this range, the loop will iterate over every element from 0 to 10 (as specified in range), not including 10. It'll take iterate over the range in steps of 1 because we have mentioned it in the code."
   ]
  },
  {
   "cell_type": "markdown",
   "id": "bcbc3dcb",
   "metadata": {},
   "source": [
    "12. Write a short program that prints the numbers 1 to 10 using a for loop. Then write an equivalent\n",
    "program that prints the numbers 1 to 10 using a while loop."
   ]
  },
  {
   "cell_type": "code",
   "execution_count": 13,
   "id": "f79782c5",
   "metadata": {},
   "outputs": [
    {
     "name": "stdout",
     "output_type": "stream",
     "text": [
      "1\n",
      "2\n",
      "3\n",
      "4\n",
      "5\n",
      "6\n",
      "7\n",
      "8\n",
      "9\n",
      "10\n"
     ]
    }
   ],
   "source": [
    "i = 1\n",
    "while i <= 10:\n",
    "    print(i)\n",
    "    i += 1"
   ]
  },
  {
   "cell_type": "code",
   "execution_count": 14,
   "id": "2bd56f4c",
   "metadata": {},
   "outputs": [
    {
     "name": "stdout",
     "output_type": "stream",
     "text": [
      "1\n",
      "2\n",
      "3\n",
      "4\n",
      "5\n",
      "6\n",
      "7\n",
      "8\n",
      "9\n",
      "10\n"
     ]
    }
   ],
   "source": [
    "for i in range(1,11):\n",
    "    print(i)\n"
   ]
  },
  {
   "cell_type": "markdown",
   "id": "0deeb738",
   "metadata": {},
   "source": [
    "13. If you had a function named bacon() inside a module named spam, how would you call it after\n",
    "importing spam?\n",
    "\n",
    "We could call the function using spam.bacon()"
   ]
  },
  {
   "cell_type": "code",
   "execution_count": null,
   "id": "96964670",
   "metadata": {},
   "outputs": [],
   "source": []
  }
 ],
 "metadata": {
  "kernelspec": {
   "display_name": "Python 3 (ipykernel)",
   "language": "python",
   "name": "python3"
  },
  "language_info": {
   "codemirror_mode": {
    "name": "ipython",
    "version": 3
   },
   "file_extension": ".py",
   "mimetype": "text/x-python",
   "name": "python",
   "nbconvert_exporter": "python",
   "pygments_lexer": "ipython3",
   "version": "3.8.12"
  }
 },
 "nbformat": 4,
 "nbformat_minor": 5
}
